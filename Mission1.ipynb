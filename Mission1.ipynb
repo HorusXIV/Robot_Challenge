{
 "cells": [
  {
   "cell_type": "code",
   "execution_count": 1,
   "metadata": {},
   "outputs": [],
   "source": [
    "from zumi.zumi import Zumi\n",
    "from zumi.util.screen import Screen\n",
    "import serial\n",
    "import csv\n",
    "import time\n",
    "import os\n"
   ]
  },
  {
   "cell_type": "code",
   "execution_count": 2,
   "metadata": {},
   "outputs": [
    {
     "name": "stdout",
     "output_type": "stream",
     "text": [
      "Starting Zumi \n",
      "Pi Zero I2C is available\n",
      "Verified Pi Zero is the same\n",
      "Gyroscope previously calibrated\n",
      "Zumi board detected\n",
      "Compass detected\n",
      "OLED Screen detected\n",
      "Gyroscope & Accelerometer detected\n",
      "Zumi battery level is low  2 %\n",
      "Please charge me!\n"
     ]
    }
   ],
   "source": [
    "zumi = Zumi()\n",
    "screen = Screen()"
   ]
  },
  {
   "cell_type": "code",
   "execution_count": null,
   "metadata": {},
   "outputs": [],
   "source": [
    "zumi.control_motors(10,13)"
   ]
  },
  {
   "cell_type": "code",
   "execution_count": null,
   "metadata": {},
   "outputs": [],
   "source": [
    "zumi.stop()"
   ]
  },
  {
   "cell_type": "markdown",
   "metadata": {},
   "source": [
    "Approach with very little movements and a lot of praying involved"
   ]
  },
  {
   "cell_type": "code",
   "execution_count": null,
   "metadata": {},
   "outputs": [],
   "source": [
    "start_time = time.time()\n",
    "zumi.reset_gyro()\n",
    "turns = 0\n",
    "while True:\n",
    "    # [123, 255, 1, 255, 100,20]\n",
    "    ir_readings = zumi.get_all_IR_data()\n",
    "    bottom_right = ir_readings[1]\n",
    "    bottom_left = ir_readings[3]\n",
    "    front_right = ir_readings[0]\n",
    "    front_left = ir_readings[5]\n",
    "\n",
    "    # Threshold for detecting black (190-200) vs grey (100-120)\n",
    "    threshold = 150  # Adjust as needed\n",
    "\n",
    "    if bottom_right < threshold and bottom_left < threshold:\n",
    "        zumi.reverse(speed = 20, duration = 0.25)\n",
    "        zumi.turn_right(45)\n",
    "        ir_readings = zumi.get_all_IR_data()\n",
    "        bottom_right = ir_readings[1]\n",
    "        bottom_left = ir_readings[3]\n",
    "        if bottom_right < threshold or bottom_left < threshold:\n",
    "            zumi.signal_left_on()\n",
    "            zumi.turn_left(90)\n",
    "            time.sleep(0.3)\n",
    "            zumi.forward(speed = 20, duration = 0.1)\n",
    "            zumi.signal_left_off()\n",
    "        else:\n",
    "            zumi.signal_right_on()\n",
    "            zumi.forward(speed = 20, duration = 0.1)\n",
    "            zumi.signal_right_off()\n",
    "\n",
    "    elif bottom_right > threshold and bottom_left > threshold:\n",
    "        zumi.control_motors(10,13)\n",
    "        if zumi.read_z_angle() > 40 or zumi.read_z_angle() < -40:\n",
    "            turns += 1\n",
    "        zumi.reset_gyro()\n",
    "\n",
    "    elif bottom_right < threshold:\n",
    "        turn_start = time.time()\n",
    "        curve_start = True\n",
    "        # Both sensors detect black → Go straight\n",
    "        zumi.control_motors(20,0)\n",
    "    \n",
    "    elif bottom_left < threshold:\n",
    "        # Left sensor on black, right on grey → Slight left turn\n",
    "        zumi.control_motors(0,20)  # Left wheel slower\n",
    "    if front_right < 15 and front_left < 15:\n",
    "        zumi.stop()\n",
    "        break\n",
    "        \n",
    "# Record end time\n",
    "end_time = time.time()\n",
    "\n",
    "csv_filename = \"/home/pi/Dashboard/user/RobotChallenge/My_Projects/Jupyter/zumi_runtime.csv\"  # Passe den Pfad nach Bedarf an\n",
    "\n",
    "# Open and write to the CSV file\n",
    "with open(csv_filename, mode='a', newline='', encoding='utf-8') as file:\n",
    "    writer = csv.writer(file)\n",
    "    writer.writerow([start_time, end_time, turns])\n",
    "    writer.writerow(\"\")"
   ]
  },
  {
   "cell_type": "code",
   "execution_count": null,
   "metadata": {},
   "outputs": [],
   "source": [
    "for i in range(0,10):\n",
    "    ir_readings = zumi.get_all_IR_data()\n",
    "    bottom_right = ir_readings[1]\n",
    "    bottom_left = ir_readings[3]\n",
    "    \n",
    "    message = \"    IR readings        \"\n",
    "    message = message + str(bottom_right) + \", \" + str(bottom_left)\n",
    "    screen.draw_text(message)\n",
    "    time.sleep(0.1)\n",
    "screen.draw_text_center(\"Done!\")"
   ]
  },
  {
   "cell_type": "code",
   "execution_count": 62,
   "metadata": {},
   "outputs": [
    {
     "name": "stdout",
     "output_type": "stream",
     "text": [
      "Done\n"
     ]
    }
   ],
   "source": [
    "zumi.reset_gyro()\n",
    "for i in range(0,50):\n",
    "    current_angle = int(zumi.read_z_angle())\n",
    "    message = \" Z-Angle reading           \"\n",
    "    message = message + str(current_angle)\n",
    "    screen.draw_text(message)\n",
    "    time.sleep(0.05)\n",
    "    \n",
    "print(\"Done\")\n",
    "screen.draw_text_center(\"Done\")"
   ]
  }
 ],
 "metadata": {
  "kernelspec": {
   "display_name": "Python 3",
   "language": "python",
   "name": "python3"
  },
  "language_info": {
   "codemirror_mode": {
    "name": "ipython",
    "version": 3
   },
   "file_extension": ".py",
   "mimetype": "text/x-python",
   "name": "python",
   "nbconvert_exporter": "python",
   "pygments_lexer": "ipython3",
   "version": "3.5.3"
  }
 },
 "nbformat": 4,
 "nbformat_minor": 2
}
